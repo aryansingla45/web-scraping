{
 "cells": [
  {
   "cell_type": "code",
   "execution_count": 1,
   "id": "e5cbb8e1",
   "metadata": {},
   "outputs": [],
   "source": [
    "import requests\n",
    "from bs4 import BeautifulSoup\n",
    "import pandas as pd"
   ]
  },
  {
   "cell_type": "code",
   "execution_count": 2,
   "id": "8417bb67",
   "metadata": {},
   "outputs": [],
   "source": [
    "data = pd.read_excel('Input.xlsx')"
   ]
  },
  {
   "cell_type": "code",
   "execution_count": 3,
   "id": "6aa2f655",
   "metadata": {},
   "outputs": [],
   "source": [
    "data = data[0:100]"
   ]
  },
  {
   "cell_type": "code",
   "execution_count": 4,
   "id": "72ef9d4b",
   "metadata": {},
   "outputs": [
    {
     "data": {
      "text/plain": [
       "'blackassign0002'"
      ]
     },
     "execution_count": 4,
     "metadata": {},
     "output_type": "execute_result"
    }
   ],
   "source": [
    "data[\"URL_ID\"][1]"
   ]
  },
  {
   "cell_type": "code",
   "execution_count": 5,
   "id": "cd96ace9",
   "metadata": {},
   "outputs": [
    {
     "data": {
      "text/html": [
       "<div>\n",
       "<style scoped>\n",
       "    .dataframe tbody tr th:only-of-type {\n",
       "        vertical-align: middle;\n",
       "    }\n",
       "\n",
       "    .dataframe tbody tr th {\n",
       "        vertical-align: top;\n",
       "    }\n",
       "\n",
       "    .dataframe thead th {\n",
       "        text-align: right;\n",
       "    }\n",
       "</style>\n",
       "<table border=\"1\" class=\"dataframe\">\n",
       "  <thead>\n",
       "    <tr style=\"text-align: right;\">\n",
       "      <th></th>\n",
       "      <th>URL_ID</th>\n",
       "      <th>URL</th>\n",
       "    </tr>\n",
       "  </thead>\n",
       "  <tbody>\n",
       "    <tr>\n",
       "      <th>95</th>\n",
       "      <td>blackassign0096</td>\n",
       "      <td>https://insights.blackcoffer.com/what-is-the-r...</td>\n",
       "    </tr>\n",
       "    <tr>\n",
       "      <th>96</th>\n",
       "      <td>blackassign0097</td>\n",
       "      <td>https://insights.blackcoffer.com/impact-of-cov...</td>\n",
       "    </tr>\n",
       "    <tr>\n",
       "      <th>97</th>\n",
       "      <td>blackassign0098</td>\n",
       "      <td>https://insights.blackcoffer.com/contribution-...</td>\n",
       "    </tr>\n",
       "    <tr>\n",
       "      <th>98</th>\n",
       "      <td>blackassign0099</td>\n",
       "      <td>https://insights.blackcoffer.com/how-covid-19-...</td>\n",
       "    </tr>\n",
       "    <tr>\n",
       "      <th>99</th>\n",
       "      <td>blackassign0100</td>\n",
       "      <td>https://insights.blackcoffer.com/how-will-covi...</td>\n",
       "    </tr>\n",
       "  </tbody>\n",
       "</table>\n",
       "</div>"
      ],
      "text/plain": [
       "             URL_ID                                                URL\n",
       "95  blackassign0096  https://insights.blackcoffer.com/what-is-the-r...\n",
       "96  blackassign0097  https://insights.blackcoffer.com/impact-of-cov...\n",
       "97  blackassign0098  https://insights.blackcoffer.com/contribution-...\n",
       "98  blackassign0099  https://insights.blackcoffer.com/how-covid-19-...\n",
       "99  blackassign0100  https://insights.blackcoffer.com/how-will-covi..."
      ]
     },
     "execution_count": 5,
     "metadata": {},
     "output_type": "execute_result"
    }
   ],
   "source": [
    "data.tail()"
   ]
  },
  {
   "cell_type": "code",
   "execution_count": 6,
   "id": "2aa68840",
   "metadata": {},
   "outputs": [
    {
     "data": {
      "text/plain": [
       "100"
      ]
     },
     "execution_count": 6,
     "metadata": {},
     "output_type": "execute_result"
    }
   ],
   "source": [
    "data['URL'].value_counts().sum()"
   ]
  },
  {
   "cell_type": "code",
   "execution_count": 14,
   "id": "31faec8d",
   "metadata": {},
   "outputs": [],
   "source": [
    "urls = data['URL'].dropna().tolist()"
   ]
  },
  {
   "cell_type": "code",
   "execution_count": 15,
   "id": "179ad8f1",
   "metadata": {},
   "outputs": [
    {
     "data": {
      "text/plain": [
       "'https://insights.blackcoffer.com/rising-it-cities-and-its-impact-on-the-economy-environment-infrastructure-and-city-life-by-the-year-2040-2/'"
      ]
     },
     "execution_count": 15,
     "metadata": {},
     "output_type": "execute_result"
    }
   ],
   "source": [
    "urls[0]"
   ]
  },
  {
   "cell_type": "code",
   "execution_count": 16,
   "id": "9478721d",
   "metadata": {},
   "outputs": [],
   "source": [
    "from newspaper import Article"
   ]
  },
  {
   "cell_type": "code",
   "execution_count": 17,
   "id": "66962987",
   "metadata": {},
   "outputs": [],
   "source": [
    "import csv"
   ]
  },
  {
   "cell_type": "code",
   "execution_count": 18,
   "id": "1fafd20e",
   "metadata": {},
   "outputs": [],
   "source": [
    "def scrape_article(url):\n",
    "    try:\n",
    "        article = Article(url)\n",
    "        article.download()\n",
    "        article.parse()\n",
    "        return article.title, article.text\n",
    "    except Exception as e:\n",
    "        print(f\"Error scraping {url}: {e}\")\n",
    "        return None, None"
   ]
  },
  {
   "cell_type": "code",
   "execution_count": 19,
   "id": "f2f3a867",
   "metadata": {},
   "outputs": [
    {
     "name": "stdout",
     "output_type": "stream",
     "text": [
      "Error scraping https://insights.blackcoffer.com/how-neural-networks-can-be-applied-in-various-areas-in-the-future/: Article `download()` failed with 404 Client Error: Not Found for url: https://insights.blackcoffer.com/how-neural-networks-can-be-applied-in-various-areas-in-the-future/ on URL https://insights.blackcoffer.com/how-neural-networks-can-be-applied-in-various-areas-in-the-future/\n",
      "Error scraping https://insights.blackcoffer.com/covid-19-environmental-impact-for-the-future/: Article `download()` failed with 404 Client Error: Not Found for url: https://insights.blackcoffer.com/covid-19-environmental-impact-for-the-future/ on URL https://insights.blackcoffer.com/covid-19-environmental-impact-for-the-future/\n"
     ]
    }
   ],
   "source": [
    "scraped_data = []\n",
    "\n",
    "for url in urls:\n",
    "    title, text = scrape_article(url)\n",
    "    if title and text:\n",
    "        scraped_data.append({'url': url, 'title': title, 'text': text})"
   ]
  },
  {
   "cell_type": "code",
   "execution_count": 22,
   "id": "1f904c7f",
   "metadata": {},
   "outputs": [
    {
     "name": "stdout",
     "output_type": "stream",
     "text": [
      "Scraping completed and data saved to scraped_articles.csv\n"
     ]
    }
   ],
   "source": [
    "with open('scraped_articles.csv', 'w', newline='', encoding='utf-8') as csvfile:\n",
    "    fieldnames = ['url', 'title', 'text']\n",
    "    writer = csv.DictWriter(csvfile, fieldnames=fieldnames)\n",
    "    \n",
    "    writer.writeheader()\n",
    "    for data in scraped_data:\n",
    "        writer.writerow(data)\n",
    "\n",
    "print(\"Scraping completed and data saved to scraped_articles.csv\")"
   ]
  },
  {
   "cell_type": "code",
   "execution_count": 23,
   "id": "cb810b2a",
   "metadata": {},
   "outputs": [],
   "source": [
    "df = pd.read_csv(\"scraped_articles.csv\")"
   ]
  },
  {
   "cell_type": "code",
   "execution_count": 25,
   "id": "a93da1d1",
   "metadata": {},
   "outputs": [],
   "source": [
    "x = pd.read_excel('Input.xlsx')"
   ]
  },
  {
   "cell_type": "code",
   "execution_count": 26,
   "id": "07d1c0e0",
   "metadata": {},
   "outputs": [],
   "source": [
    "df[\"URL_ID\"] = x[\"URL_ID\"]"
   ]
  },
  {
   "cell_type": "code",
   "execution_count": 27,
   "id": "b90306fb",
   "metadata": {},
   "outputs": [
    {
     "data": {
      "text/html": [
       "<div>\n",
       "<style scoped>\n",
       "    .dataframe tbody tr th:only-of-type {\n",
       "        vertical-align: middle;\n",
       "    }\n",
       "\n",
       "    .dataframe tbody tr th {\n",
       "        vertical-align: top;\n",
       "    }\n",
       "\n",
       "    .dataframe thead th {\n",
       "        text-align: right;\n",
       "    }\n",
       "</style>\n",
       "<table border=\"1\" class=\"dataframe\">\n",
       "  <thead>\n",
       "    <tr style=\"text-align: right;\">\n",
       "      <th></th>\n",
       "      <th>url</th>\n",
       "      <th>title</th>\n",
       "      <th>text</th>\n",
       "      <th>URL_ID</th>\n",
       "    </tr>\n",
       "  </thead>\n",
       "  <tbody>\n",
       "    <tr>\n",
       "      <th>0</th>\n",
       "      <td>https://insights.blackcoffer.com/rising-it-cit...</td>\n",
       "      <td>Rising IT cities and its impact on the economy...</td>\n",
       "      <td>We have seen a huge development and dependence...</td>\n",
       "      <td>blackassign0001</td>\n",
       "    </tr>\n",
       "    <tr>\n",
       "      <th>1</th>\n",
       "      <td>https://insights.blackcoffer.com/rising-it-cit...</td>\n",
       "      <td>Rising IT Cities and Their Impact on the Econo...</td>\n",
       "      <td>Throughout history, from the industrial revolu...</td>\n",
       "      <td>blackassign0002</td>\n",
       "    </tr>\n",
       "    <tr>\n",
       "      <th>2</th>\n",
       "      <td>https://insights.blackcoffer.com/internet-dema...</td>\n",
       "      <td>Internet Demand’s Evolution, Communication Imp...</td>\n",
       "      <td>Introduction\\n\\nIn the span of just a few deca...</td>\n",
       "      <td>blackassign0003</td>\n",
       "    </tr>\n",
       "    <tr>\n",
       "      <th>3</th>\n",
       "      <td>https://insights.blackcoffer.com/rise-of-cyber...</td>\n",
       "      <td>Rise of Cybercrime and its Effect in upcoming ...</td>\n",
       "      <td>The way we live, work, and communicate has unq...</td>\n",
       "      <td>blackassign0004</td>\n",
       "    </tr>\n",
       "    <tr>\n",
       "      <th>4</th>\n",
       "      <td>https://insights.blackcoffer.com/ott-platform-...</td>\n",
       "      <td>OTT platform and its impact on the entertainme...</td>\n",
       "      <td>The year 2040 is poised to witness a continued...</td>\n",
       "      <td>blackassign0005</td>\n",
       "    </tr>\n",
       "  </tbody>\n",
       "</table>\n",
       "</div>"
      ],
      "text/plain": [
       "                                                 url  \\\n",
       "0  https://insights.blackcoffer.com/rising-it-cit...   \n",
       "1  https://insights.blackcoffer.com/rising-it-cit...   \n",
       "2  https://insights.blackcoffer.com/internet-dema...   \n",
       "3  https://insights.blackcoffer.com/rise-of-cyber...   \n",
       "4  https://insights.blackcoffer.com/ott-platform-...   \n",
       "\n",
       "                                               title  \\\n",
       "0  Rising IT cities and its impact on the economy...   \n",
       "1  Rising IT Cities and Their Impact on the Econo...   \n",
       "2  Internet Demand’s Evolution, Communication Imp...   \n",
       "3  Rise of Cybercrime and its Effect in upcoming ...   \n",
       "4  OTT platform and its impact on the entertainme...   \n",
       "\n",
       "                                                text           URL_ID  \n",
       "0  We have seen a huge development and dependence...  blackassign0001  \n",
       "1  Throughout history, from the industrial revolu...  blackassign0002  \n",
       "2  Introduction\\n\\nIn the span of just a few deca...  blackassign0003  \n",
       "3  The way we live, work, and communicate has unq...  blackassign0004  \n",
       "4  The year 2040 is poised to witness a continued...  blackassign0005  "
      ]
     },
     "execution_count": 27,
     "metadata": {},
     "output_type": "execute_result"
    }
   ],
   "source": [
    "df.head()"
   ]
  },
  {
   "cell_type": "code",
   "execution_count": null,
   "id": "43975cb7",
   "metadata": {},
   "outputs": [],
   "source": [
    "df['text'][0]"
   ]
  },
  {
   "cell_type": "code",
   "execution_count": 28,
   "id": "318722f0",
   "metadata": {},
   "outputs": [
    {
     "name": "stderr",
     "output_type": "stream",
     "text": [
      "[nltk_data] Downloading package punkt to\n",
      "[nltk_data]     C:\\Users\\pk\\AppData\\Roaming\\nltk_data...\n",
      "[nltk_data]   Package punkt is already up-to-date!\n"
     ]
    },
    {
     "data": {
      "text/plain": [
       "True"
      ]
     },
     "execution_count": 28,
     "metadata": {},
     "output_type": "execute_result"
    }
   ],
   "source": [
    "import pandas as pd\n",
    "import re\n",
    "from textblob import TextBlob\n",
    "import textstat\n",
    "import nltk\n",
    "from collections import Counter\n",
    "nltk.download('punkt')"
   ]
  },
  {
   "cell_type": "code",
   "execution_count": 30,
   "id": "7b1e1fdd",
   "metadata": {},
   "outputs": [],
   "source": [
    "stopwords_files = ['StopWords/StopWords_Auditor.txt' , 'StopWords/StopWords_Currencies.txt' , \n",
    "                   'StopWords/StopWords_DatesandNumbers.txt','StopWords/StopWords_Generic.txt' , \n",
    "                   'StopWords/StopWords_GenericLong.txt' , 'StopWords/StopWords_Geographic.txt'\n",
    "                    ,'StopWords/StopWords_Names.txt']\n",
    "\n",
    "custom_stopwords = set()\n",
    "for file in stopwords_files:\n",
    "    with open(file , 'r') as f:\n",
    "        for line in f:\n",
    "            custom_stopwords.add(line.strip().lower())\n",
    "            \n"
   ]
  },
  {
   "cell_type": "code",
   "execution_count": 31,
   "id": "6c543ea0",
   "metadata": {},
   "outputs": [],
   "source": [
    "positive_words = set(open('MasterDictionary/positive-words.txt').read().split())\n",
    "negative_words = set(open('MasterDictionary/negative-words.txt').read().split())"
   ]
  },
  {
   "cell_type": "code",
   "execution_count": 32,
   "id": "f426f0be",
   "metadata": {},
   "outputs": [],
   "source": [
    "output_structure = pd.read_excel(\"Output Data Structure.xlsx\")"
   ]
  },
  {
   "cell_type": "code",
   "execution_count": 33,
   "id": "66d5b95b",
   "metadata": {},
   "outputs": [],
   "source": [
    "def clean_text(text):\n",
    "    text = text.lower()\n",
    "    text = re.sub(r'\\n' , ' ' , text)\n",
    "    return text"
   ]
  },
  {
   "cell_type": "code",
   "execution_count": 34,
   "id": "99d61259",
   "metadata": {},
   "outputs": [],
   "source": [
    "def analyze_text(row):\n",
    "    cleaned_text = clean_text(row['text'])\n",
    "    blob = TextBlob(cleaned_text)\n",
    "    \n",
    "    sentences = nltk.sent_tokenize(row['text'])\n",
    "    words = nltk.word_tokenize(row['text'])\n",
    "    filtered_words = [word for word in words if word.lower() not in custom_stopwords]\n",
    "    word_count = len(filtered_words)\n",
    "    \n",
    "    positive_score = sum(1 for word in filtered_words if word in positive_words)\n",
    "    negative_score = sum(1 for word in filtered_words if word in negative_words)\n",
    "    polarity_score = blob.sentiment.polarity\n",
    "    subjectivity_score = blob.sentiment.subjectivity\n",
    "    \n",
    "    avg_sentence_length = word_count / len(sentences) if len(sentences) else 0\n",
    "    \n",
    "    complex_word_count = sum(1 for word in filtered_words if count_syllables(word) > 2)\n",
    "    complex_word_percentage = (complex_word_count / word_count) * 100 if word_count else 0\n",
    "    \n",
    "    fog_index = 0.4 * (avg_sentence_length + complex_word_percentage) if avg_sentence_length else 0\n",
    "    avg_words_per_sentence = word_count / len(sentences) if len(sentences) else 0\n",
    "    \n",
    "    syllable_count = sum(count_syllables(word) for word in filtered_words)\n",
    "    personal_pronoun_count = count_personal_pronouns(cleaned_text)\n",
    "    avg_word_length = sum(len(word) for word in filtered_words) / word_count if word_count else 0\n",
    "    \n",
    "    # Return a dictionary matching the output structure\n",
    "    return {\n",
    "        'URL_ID' : row['URL_ID'],\n",
    "        'URL': row['url'],\n",
    "        'POSITIVE SCORE': positive_score,\n",
    "        'NEGATIVE SCORE': negative_score,\n",
    "        'POLARITY SCORE': polarity_score,\n",
    "        'SUBJECTIVITY SCORE': subjectivity_score,\n",
    "        'AVG SENTENCE LENGTH': avg_sentence_length,\n",
    "        'PERCENTAGE OF COMPLEX WORDS': complex_word_percentage,\n",
    "        'FOG INDEX': fog_index,\n",
    "        'AVG NUMBER OF WORDS PER SENTENCE': avg_words_per_sentence,\n",
    "        'COMPLEX WORD COUNT': complex_word_count,\n",
    "        'WORD COUNT': word_count,\n",
    "        'SYLLABLE PER WORD': syllable_count / word_count if word_count else 0,\n",
    "        'PERSONAL PRONOUNS': personal_pronoun_count,\n",
    "        'AVG WORD LENGTH': avg_word_length\n",
    "    }\n"
   ]
  },
  {
   "cell_type": "code",
   "execution_count": 35,
   "id": "9c79fc8c",
   "metadata": {},
   "outputs": [],
   "source": [
    "def count_syllables(word):\n",
    "    vowels = 'aeiouy'\n",
    "    word = word.lower()\n",
    "    syllables = 0\n",
    "    if word[0] in vowels:\n",
    "        syllables += 1\n",
    "    for index in range(1, len(word)):\n",
    "        if word[index] in vowels and word[index - 1] not in vowels:\n",
    "            syllables += 1\n",
    "    if word.endswith('e'):\n",
    "        syllables -= 1\n",
    "    if syllables == 0:\n",
    "        syllables += 1\n",
    "    return syllables"
   ]
  },
  {
   "cell_type": "code",
   "execution_count": 36,
   "id": "c889d463",
   "metadata": {},
   "outputs": [],
   "source": [
    "def count_personal_pronouns(text):\n",
    "    pronouns = ['i', 'we', 'my', 'ours', 'us']\n",
    "    words = text.split()\n",
    "    count = sum(1 for word in words if word in pronouns)\n",
    "    return count"
   ]
  },
  {
   "cell_type": "code",
   "execution_count": 37,
   "id": "6d39040f",
   "metadata": {},
   "outputs": [
    {
     "name": "stdout",
     "output_type": "stream",
     "text": [
      "Textual analysis completed and data saved to analyzed_output.xlsx\n"
     ]
    }
   ],
   "source": [
    "output_data = df.apply(lambda row: analyze_text(row), axis=1)\n",
    "\n",
    "# Convert the results to a DataFrame\n",
    "output_df = pd.DataFrame(output_data.tolist())\n",
    "\n",
    "# Ensure the columns are in the exact order as in the output structure\n",
    "output_df = output_df[output_structure.columns]\n",
    "\n",
    "# Save the output to a new Excel file\n",
    "output_df.to_excel('analyzed_output.xlsx', index=False)\n",
    "\n",
    "print(\"Textual analysis completed and data saved to analyzed_output.xlsx\")"
   ]
  },
  {
   "cell_type": "code",
   "execution_count": null,
   "id": "5e516572",
   "metadata": {},
   "outputs": [],
   "source": []
  }
 ],
 "metadata": {
  "kernelspec": {
   "display_name": "Python 3",
   "language": "python",
   "name": "python3"
  },
  "language_info": {
   "codemirror_mode": {
    "name": "ipython",
    "version": 3
   },
   "file_extension": ".py",
   "mimetype": "text/x-python",
   "name": "python",
   "nbconvert_exporter": "python",
   "pygments_lexer": "ipython3",
   "version": "3.9.12"
  }
 },
 "nbformat": 4,
 "nbformat_minor": 5
}
